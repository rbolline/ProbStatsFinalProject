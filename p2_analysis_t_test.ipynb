{
 "cells": [
  {
   "cell_type": "code",
   "execution_count": 1,
   "metadata": {},
   "outputs": [],
   "source": [
    "import numpy as np\n",
    "import pandas as pd\n",
    "import matplotlib.pyplot as plt\n",
    "import scipy.stats as stats\n",
    "import tqdm"
   ]
  },
  {
   "cell_type": "markdown",
   "metadata": {},
   "source": [
    "Things to analyze\n",
    "\n",
    "* We can do a two-sample t-test between yearly difference in temperature and yearly difference in precipitation. That way we can see that if difference in temperature increases, whether or not difference in precipitation increases by chance. --> Do this for every climate indicator, not just precipitation\n",
    "* Question: do we really need to use the differences between values, or can we just use the values themselves?\n",
    "* Look into ozone depletion and CFCs getting banned in 1970s?"
   ]
  },
  {
   "cell_type": "code",
   "execution_count": 2,
   "metadata": {},
   "outputs": [
    {
     "name": "stdout",
     "output_type": "stream",
     "text": [
      "(18322712, 7)\n"
     ]
    },
    {
     "data": {
      "text/html": [
       "<div>\n",
       "<style scoped>\n",
       "    .dataframe tbody tr th:only-of-type {\n",
       "        vertical-align: middle;\n",
       "    }\n",
       "\n",
       "    .dataframe tbody tr th {\n",
       "        vertical-align: top;\n",
       "    }\n",
       "\n",
       "    .dataframe thead th {\n",
       "        text-align: right;\n",
       "    }\n",
       "</style>\n",
       "<table border=\"1\" class=\"dataframe\">\n",
       "  <thead>\n",
       "    <tr style=\"text-align: right;\">\n",
       "      <th></th>\n",
       "      <th>Unnamed: 0</th>\n",
       "      <th>station_id</th>\n",
       "      <th>year</th>\n",
       "      <th>month</th>\n",
       "      <th>element</th>\n",
       "      <th>day</th>\n",
       "      <th>value</th>\n",
       "    </tr>\n",
       "  </thead>\n",
       "  <tbody>\n",
       "    <tr>\n",
       "      <th>0</th>\n",
       "      <td>0</td>\n",
       "      <td>AGM00060490</td>\n",
       "      <td>1957</td>\n",
       "      <td>1</td>\n",
       "      <td>TMAX</td>\n",
       "      <td>1</td>\n",
       "      <td>178</td>\n",
       "    </tr>\n",
       "    <tr>\n",
       "      <th>1</th>\n",
       "      <td>1</td>\n",
       "      <td>AGM00060490</td>\n",
       "      <td>1957</td>\n",
       "      <td>1</td>\n",
       "      <td>TMAX</td>\n",
       "      <td>2</td>\n",
       "      <td>150</td>\n",
       "    </tr>\n",
       "    <tr>\n",
       "      <th>2</th>\n",
       "      <td>2</td>\n",
       "      <td>AGM00060490</td>\n",
       "      <td>1957</td>\n",
       "      <td>1</td>\n",
       "      <td>TMAX</td>\n",
       "      <td>3</td>\n",
       "      <td>161</td>\n",
       "    </tr>\n",
       "    <tr>\n",
       "      <th>3</th>\n",
       "      <td>3</td>\n",
       "      <td>AGM00060490</td>\n",
       "      <td>1957</td>\n",
       "      <td>1</td>\n",
       "      <td>TMAX</td>\n",
       "      <td>4</td>\n",
       "      <td>172</td>\n",
       "    </tr>\n",
       "    <tr>\n",
       "      <th>4</th>\n",
       "      <td>4</td>\n",
       "      <td>AGM00060490</td>\n",
       "      <td>1957</td>\n",
       "      <td>1</td>\n",
       "      <td>TMAX</td>\n",
       "      <td>5</td>\n",
       "      <td>172</td>\n",
       "    </tr>\n",
       "    <tr>\n",
       "      <th>...</th>\n",
       "      <td>...</td>\n",
       "      <td>...</td>\n",
       "      <td>...</td>\n",
       "      <td>...</td>\n",
       "      <td>...</td>\n",
       "      <td>...</td>\n",
       "      <td>...</td>\n",
       "    </tr>\n",
       "    <tr>\n",
       "      <th>18322707</th>\n",
       "      <td>15215</td>\n",
       "      <td>ZA000067753</td>\n",
       "      <td>1990</td>\n",
       "      <td>11</td>\n",
       "      <td>PRCP</td>\n",
       "      <td>26</td>\n",
       "      <td>0</td>\n",
       "    </tr>\n",
       "    <tr>\n",
       "      <th>18322708</th>\n",
       "      <td>15216</td>\n",
       "      <td>ZA000067753</td>\n",
       "      <td>1990</td>\n",
       "      <td>11</td>\n",
       "      <td>PRCP</td>\n",
       "      <td>27</td>\n",
       "      <td>0</td>\n",
       "    </tr>\n",
       "    <tr>\n",
       "      <th>18322709</th>\n",
       "      <td>15217</td>\n",
       "      <td>ZA000067753</td>\n",
       "      <td>1990</td>\n",
       "      <td>11</td>\n",
       "      <td>PRCP</td>\n",
       "      <td>28</td>\n",
       "      <td>0</td>\n",
       "    </tr>\n",
       "    <tr>\n",
       "      <th>18322710</th>\n",
       "      <td>15218</td>\n",
       "      <td>ZA000067753</td>\n",
       "      <td>1990</td>\n",
       "      <td>11</td>\n",
       "      <td>PRCP</td>\n",
       "      <td>29</td>\n",
       "      <td>0</td>\n",
       "    </tr>\n",
       "    <tr>\n",
       "      <th>18322711</th>\n",
       "      <td>15219</td>\n",
       "      <td>ZA000067753</td>\n",
       "      <td>1990</td>\n",
       "      <td>11</td>\n",
       "      <td>PRCP</td>\n",
       "      <td>30</td>\n",
       "      <td>660</td>\n",
       "    </tr>\n",
       "  </tbody>\n",
       "</table>\n",
       "<p>18322712 rows × 7 columns</p>\n",
       "</div>"
      ],
      "text/plain": [
       "          Unnamed: 0   station_id  year  month element  day  value\n",
       "0                  0  AGM00060490  1957      1    TMAX    1    178\n",
       "1                  1  AGM00060490  1957      1    TMAX    2    150\n",
       "2                  2  AGM00060490  1957      1    TMAX    3    161\n",
       "3                  3  AGM00060490  1957      1    TMAX    4    172\n",
       "4                  4  AGM00060490  1957      1    TMAX    5    172\n",
       "...              ...          ...   ...    ...     ...  ...    ...\n",
       "18322707       15215  ZA000067753  1990     11    PRCP   26      0\n",
       "18322708       15216  ZA000067753  1990     11    PRCP   27      0\n",
       "18322709       15217  ZA000067753  1990     11    PRCP   28      0\n",
       "18322710       15218  ZA000067753  1990     11    PRCP   29      0\n",
       "18322711       15219  ZA000067753  1990     11    PRCP   30    660\n",
       "\n",
       "[18322712 rows x 7 columns]"
      ]
     },
     "execution_count": 2,
     "metadata": {},
     "output_type": "execute_result"
    }
   ],
   "source": [
    "# Load data\n",
    "df = pd.read_csv(\"filtered_data.csv\")\n",
    "print(df.shape)\n",
    "df"
   ]
  },
  {
   "cell_type": "code",
   "execution_count": 37,
   "metadata": {},
   "outputs": [],
   "source": [
    "# ===========================================================\n",
    "# Compute each year's temperature\n",
    "# ===========================================================\n",
    "\n",
    "# For each station and for each day, compute the midpoint temperature by\n",
    "# averaging the min and max temperatures\n",
    "mid_temps = df.where(np.logical_or(df[\"element\"] == \"TMIN\",\n",
    "                            df[\"element\"] == \"TMAX\")).groupby(by=[\"station_id\", \"year\", \"month\", \"day\"]).mean().reset_index()\n",
    "\n",
    "# For each station and for each year, compute the average temperature across that year\n",
    "avg_yearly_temps_per_station = mid_temps.groupby(by=[\"station_id\", \"year\"]).mean()[\"value\"].reset_index()\n",
    "\n",
    "# For each year, compute the average temperature across stations\n",
    "avg_yearly_temps = mid_temps.groupby(by=[\"year\"]).mean()[\"value\"].reset_index()\n",
    "\n",
    "# All temperatures are in tenths of degree Celsius, so divide by 10 to get\n",
    "# actual Celsius temperatures\n",
    "avg_yearly_temps[\"value\"] /= 10"
   ]
  },
  {
   "cell_type": "code",
   "execution_count": 38,
   "metadata": {},
   "outputs": [
    {
     "name": "stdout",
     "output_type": "stream",
     "text": [
      "(145,)\n"
     ]
    },
    {
     "data": {
      "text/plain": [
       "year\n",
       "1877     8.820109\n",
       "1878     7.758888\n",
       "1879     3.143174\n",
       "1880     3.977254\n",
       "1881     4.746990\n",
       "          ...    \n",
       "2017    10.677159\n",
       "2018    10.307024\n",
       "2019    10.116904\n",
       "2020    10.444746\n",
       "2021     2.146452\n",
       "Name: temp, Length: 145, dtype: float64"
      ]
     },
     "execution_count": 38,
     "metadata": {},
     "output_type": "execute_result"
    }
   ],
   "source": [
    "avg_yearly_temps[\"year\"] = avg_yearly_temps[\"year\"].astype(int)\n",
    "avg_yearly_temps = avg_yearly_temps.set_index(\"year\").squeeze()\n",
    "print(avg_yearly_temps.shape)\n",
    "avg_yearly_temps.rename(\"temp\", inplace=True)\n",
    "avg_yearly_temps\n"
   ]
  },
  {
   "cell_type": "code",
   "execution_count": 5,
   "metadata": {},
   "outputs": [],
   "source": [
    "# ===========================================================\n",
    "# Compute each year's precipitation\n",
    "# ===========================================================\n",
    "\n",
    "def compute_yearly_metrics(metrics):\n",
    "    metrics_data = []\n",
    "    for metric in tqdm.tqdm(metrics):\n",
    "        # Extract the data\n",
    "        data = df.where(df['element'] == metric).dropna()\n",
    "\n",
    "        # Delete missing data, and unnecessary columns\n",
    "        data = data[data[\"value\"] != -9999]\n",
    "\n",
    "        # For each station and for each year, compute the average temperature across that year\n",
    "        avg_yearly_per_station = data.groupby(by=[\"station_id\", \"year\"]).mean()[\"value\"].reset_index()\n",
    "\n",
    "        # For each year, compute the average temperature across stations\n",
    "        avg_yearly = avg_yearly_per_station.groupby(by=[\"year\"]).mean()[\"value\"].reset_index()\n",
    "\n",
    "        avg_yearly[\"year\"] = avg_yearly[\"year\"].astype(int)\n",
    "        avg_yearly = avg_yearly.set_index(\"year\").squeeze()\n",
    "        avg_yearly.rename(metric, inplace=True)\n",
    "\n",
    "        metrics_data.append(avg_yearly)\n",
    "\n",
    "    return metrics_data\n",
    "    \n"
   ]
  },
  {
   "cell_type": "code",
   "execution_count": 6,
   "metadata": {},
   "outputs": [
    {
     "name": "stderr",
     "output_type": "stream",
     "text": [
      "100%|██████████| 2/2 [00:24<00:00, 12.04s/it]\n"
     ]
    },
    {
     "data": {
      "text/html": [
       "<div>\n",
       "<style scoped>\n",
       "    .dataframe tbody tr th:only-of-type {\n",
       "        vertical-align: middle;\n",
       "    }\n",
       "\n",
       "    .dataframe tbody tr th {\n",
       "        vertical-align: top;\n",
       "    }\n",
       "\n",
       "    .dataframe thead th {\n",
       "        text-align: right;\n",
       "    }\n",
       "</style>\n",
       "<table border=\"1\" class=\"dataframe\">\n",
       "  <thead>\n",
       "    <tr style=\"text-align: right;\">\n",
       "      <th></th>\n",
       "      <th>temp</th>\n",
       "      <th>PRCP</th>\n",
       "      <th>SNOW</th>\n",
       "    </tr>\n",
       "    <tr>\n",
       "      <th>year</th>\n",
       "      <th></th>\n",
       "      <th></th>\n",
       "      <th></th>\n",
       "    </tr>\n",
       "  </thead>\n",
       "  <tbody>\n",
       "    <tr>\n",
       "      <th>1877</th>\n",
       "      <td>8.820109</td>\n",
       "      <td>15.316494</td>\n",
       "      <td>4.471920</td>\n",
       "    </tr>\n",
       "    <tr>\n",
       "      <th>1878</th>\n",
       "      <td>7.758888</td>\n",
       "      <td>21.908112</td>\n",
       "      <td>3.014515</td>\n",
       "    </tr>\n",
       "    <tr>\n",
       "      <th>1879</th>\n",
       "      <td>3.143174</td>\n",
       "      <td>18.989336</td>\n",
       "      <td>7.251486</td>\n",
       "    </tr>\n",
       "    <tr>\n",
       "      <th>1880</th>\n",
       "      <td>3.977254</td>\n",
       "      <td>14.674011</td>\n",
       "      <td>4.565574</td>\n",
       "    </tr>\n",
       "    <tr>\n",
       "      <th>1881</th>\n",
       "      <td>4.746990</td>\n",
       "      <td>16.090796</td>\n",
       "      <td>2.852521</td>\n",
       "    </tr>\n",
       "    <tr>\n",
       "      <th>...</th>\n",
       "      <td>...</td>\n",
       "      <td>...</td>\n",
       "      <td>...</td>\n",
       "    </tr>\n",
       "    <tr>\n",
       "      <th>2017</th>\n",
       "      <td>10.677159</td>\n",
       "      <td>36.918720</td>\n",
       "      <td>5.729140</td>\n",
       "    </tr>\n",
       "    <tr>\n",
       "      <th>2018</th>\n",
       "      <td>10.307024</td>\n",
       "      <td>40.338285</td>\n",
       "      <td>5.829240</td>\n",
       "    </tr>\n",
       "    <tr>\n",
       "      <th>2019</th>\n",
       "      <td>10.116904</td>\n",
       "      <td>36.929213</td>\n",
       "      <td>7.169056</td>\n",
       "    </tr>\n",
       "    <tr>\n",
       "      <th>2020</th>\n",
       "      <td>10.444746</td>\n",
       "      <td>37.480173</td>\n",
       "      <td>5.522127</td>\n",
       "    </tr>\n",
       "    <tr>\n",
       "      <th>2021</th>\n",
       "      <td>2.146452</td>\n",
       "      <td>30.426926</td>\n",
       "      <td>9.279473</td>\n",
       "    </tr>\n",
       "  </tbody>\n",
       "</table>\n",
       "<p>145 rows × 3 columns</p>\n",
       "</div>"
      ],
      "text/plain": [
       "           temp       PRCP      SNOW\n",
       "year                                \n",
       "1877   8.820109  15.316494  4.471920\n",
       "1878   7.758888  21.908112  3.014515\n",
       "1879   3.143174  18.989336  7.251486\n",
       "1880   3.977254  14.674011  4.565574\n",
       "1881   4.746990  16.090796  2.852521\n",
       "...         ...        ...       ...\n",
       "2017  10.677159  36.918720  5.729140\n",
       "2018  10.307024  40.338285  5.829240\n",
       "2019  10.116904  36.929213  7.169056\n",
       "2020  10.444746  37.480173  5.522127\n",
       "2021   2.146452  30.426926  9.279473\n",
       "\n",
       "[145 rows x 3 columns]"
      ]
     },
     "execution_count": 6,
     "metadata": {},
     "output_type": "execute_result"
    }
   ],
   "source": [
    "# Join the temperature and metric data (on the index a.k.a. the year column)\n",
    "metrics_list = [\"PRCP\", \"SNOW\"]\n",
    "data = [avg_yearly_temps] + compute_yearly_metrics(metrics_list)\n",
    "data = pd.concat(data, axis=1, join=\"inner\", ignore_index=False)\n",
    "data"
   ]
  },
  {
   "cell_type": "code",
   "execution_count": 16,
   "metadata": {},
   "outputs": [
    {
     "data": {
      "text/plain": [
       "temp     2.146452\n",
       "PRCP    30.426926\n",
       "SNOW     9.279473\n",
       "Name: 2021, dtype: float64"
      ]
     },
     "execution_count": 16,
     "metadata": {},
     "output_type": "execute_result"
    }
   ],
   "source": [
    "data.iloc[-1]"
   ]
  },
  {
   "cell_type": "code",
   "execution_count": 25,
   "metadata": {},
   "outputs": [
    {
     "name": "stdout",
     "output_type": "stream",
     "text": [
      "PRCP : Ttest_indResult(statistic=-0.696971642724049, pvalue=0.48962265774733815)\n",
      "SNOW : Ttest_indResult(statistic=-0.02164865718576161, pvalue=0.9828567574523858)\n"
     ]
    }
   ],
   "source": []
  },
  {
   "cell_type": "code",
   "execution_count": 26,
   "metadata": {},
   "outputs": [
    {
     "name": "stdout",
     "output_type": "stream",
     "text": [
      "PRCP : Ttest_indResult(statistic=-1.0663778179197536, pvalue=0.30119065507715237)\n",
      "SNOW : Ttest_indResult(statistic=-0.8113282518113045, pvalue=0.42402073481813984)\n"
     ]
    }
   ],
   "source": []
  },
  {
   "cell_type": "code",
   "execution_count": 7,
   "metadata": {},
   "outputs": [
    {
     "data": {
      "text/html": [
       "<div>\n",
       "<style scoped>\n",
       "    .dataframe tbody tr th:only-of-type {\n",
       "        vertical-align: middle;\n",
       "    }\n",
       "\n",
       "    .dataframe tbody tr th {\n",
       "        vertical-align: top;\n",
       "    }\n",
       "\n",
       "    .dataframe thead th {\n",
       "        text-align: right;\n",
       "    }\n",
       "</style>\n",
       "<table border=\"1\" class=\"dataframe\">\n",
       "  <thead>\n",
       "    <tr style=\"text-align: right;\">\n",
       "      <th></th>\n",
       "      <th>temp</th>\n",
       "      <th>PRCP</th>\n",
       "      <th>SNOW</th>\n",
       "    </tr>\n",
       "    <tr>\n",
       "      <th>year</th>\n",
       "      <th></th>\n",
       "      <th></th>\n",
       "      <th></th>\n",
       "    </tr>\n",
       "  </thead>\n",
       "  <tbody>\n",
       "    <tr>\n",
       "      <th>1878</th>\n",
       "      <td>-12.819520</td>\n",
       "      <td>35.792670</td>\n",
       "      <td>-39.437895</td>\n",
       "    </tr>\n",
       "    <tr>\n",
       "      <th>1879</th>\n",
       "      <td>-90.360585</td>\n",
       "      <td>-14.297940</td>\n",
       "      <td>87.776747</td>\n",
       "    </tr>\n",
       "    <tr>\n",
       "      <th>1880</th>\n",
       "      <td>23.535852</td>\n",
       "      <td>-25.779960</td>\n",
       "      <td>-46.266223</td>\n",
       "    </tr>\n",
       "    <tr>\n",
       "      <th>1881</th>\n",
       "      <td>17.691917</td>\n",
       "      <td>9.216944</td>\n",
       "      <td>-47.034102</td>\n",
       "    </tr>\n",
       "    <tr>\n",
       "      <th>1882</th>\n",
       "      <td>7.122093</td>\n",
       "      <td>7.373779</td>\n",
       "      <td>22.847724</td>\n",
       "    </tr>\n",
       "    <tr>\n",
       "      <th>...</th>\n",
       "      <td>...</td>\n",
       "      <td>...</td>\n",
       "      <td>...</td>\n",
       "    </tr>\n",
       "    <tr>\n",
       "      <th>2017</th>\n",
       "      <td>-2.344578</td>\n",
       "      <td>-5.956306</td>\n",
       "      <td>21.271004</td>\n",
       "    </tr>\n",
       "    <tr>\n",
       "      <th>2018</th>\n",
       "      <td>-3.528117</td>\n",
       "      <td>8.858228</td>\n",
       "      <td>1.732118</td>\n",
       "    </tr>\n",
       "    <tr>\n",
       "      <th>2019</th>\n",
       "      <td>-1.861789</td>\n",
       "      <td>-8.829810</td>\n",
       "      <td>20.688725</td>\n",
       "    </tr>\n",
       "    <tr>\n",
       "      <th>2020</th>\n",
       "      <td>3.189134</td>\n",
       "      <td>1.480917</td>\n",
       "      <td>-26.101090</td>\n",
       "    </tr>\n",
       "    <tr>\n",
       "      <th>2021</th>\n",
       "      <td>-158.228263</td>\n",
       "      <td>-20.848412</td>\n",
       "      <td>51.904171</td>\n",
       "    </tr>\n",
       "  </tbody>\n",
       "</table>\n",
       "<p>144 rows × 3 columns</p>\n",
       "</div>"
      ],
      "text/plain": [
       "            temp       PRCP       SNOW\n",
       "year                                  \n",
       "1878  -12.819520  35.792670 -39.437895\n",
       "1879  -90.360585 -14.297940  87.776747\n",
       "1880   23.535852 -25.779960 -46.266223\n",
       "1881   17.691917   9.216944 -47.034102\n",
       "1882    7.122093   7.373779  22.847724\n",
       "...          ...        ...        ...\n",
       "2017   -2.344578  -5.956306  21.271004\n",
       "2018   -3.528117   8.858228   1.732118\n",
       "2019   -1.861789  -8.829810  20.688725\n",
       "2020    3.189134   1.480917 -26.101090\n",
       "2021 -158.228263 -20.848412  51.904171\n",
       "\n",
       "[144 rows x 3 columns]"
      ]
     },
     "execution_count": 7,
     "metadata": {},
     "output_type": "execute_result"
    }
   ],
   "source": [
    "# ===========================================================\n",
    "# Compute % differences in temperature and precipitation\n",
    "# year-to-year\n",
    "# ===========================================================\n",
    "changes = np.log(1 + data.pct_change()) * 100\n",
    "changes.drop(labels=changes.index[0], inplace=True) # drop the first row because it's just NaN values\n",
    "changes"
   ]
  },
  {
   "cell_type": "code",
   "execution_count": 33,
   "metadata": {},
   "outputs": [
    {
     "name": "stdout",
     "output_type": "stream",
     "text": [
      "RUNNING t-test FOR YEAR-BY-YEAR TESTS:\n",
      "PRCP : Ttest_indResult(statistic=-0.7788559211868984, pvalue=0.4368743456054145)\n",
      "SNOW : Ttest_indResult(statistic=-0.40628339299579513, pvalue=0.6849498152073563)\n"
     ]
    }
   ],
   "source": [
    "# Run a two-sample t-test to test between whether there's a difference in means of the percent changes for temperature and precipitation\n",
    "print('RUNNING t-test FOR YEAR-BY-YEAR TESTS:')\n",
    "for metric in metrics_list:\n",
    "    print(metric, \":\", stats.ttest_ind(changes[\"temp\"], changes[metric], equal_var=False, alternative=\"two-sided\"))"
   ]
  },
  {
   "cell_type": "code",
   "execution_count": 31,
   "metadata": {},
   "outputs": [
    {
     "name": "stdout",
     "output_type": "stream",
     "text": [
      "RUNNING t-test FOR 5 YEAR TESTS:\n",
      "PRCP : Ttest_indResult(statistic=-0.696971642724049, pvalue=0.48962265774733815)\n",
      "SNOW : Ttest_indResult(statistic=-0.02164865718576161, pvalue=0.9828567574523858)\n"
     ]
    }
   ],
   "source": [
    "five_yr_df = data[::5]\n",
    "# ===========================================================\n",
    "# Compute % differences in temperature and precipitation\n",
    "# every 5 years\n",
    "# ===========================================================\n",
    "changes_5 = np.log(1 + five_yr_df.pct_change()) * 100\n",
    "changes_5.drop(labels=changes_5.index[0], inplace=True) # drop the first row because it's just NaN values\n",
    "changes_5\n",
    "# Run a two-sample t-test to test between whether there's a difference in means of the percent changes for temperature and precipitation\n",
    "print('RUNNING t-test FOR 5 YEAR TESTS:')\n",
    "for metric in metrics_list:\n",
    "    print(metric, \":\", stats.ttest_ind(changes_5[\"temp\"], changes_5[metric], equal_var=False, alternative=\"two-sided\"))"
   ]
  },
  {
   "cell_type": "code",
   "execution_count": 32,
   "metadata": {},
   "outputs": [
    {
     "name": "stdout",
     "output_type": "stream",
     "text": [
      "RUNNING t-test FOR 10 YEAR TESTS:\n",
      "PRCP : Ttest_indResult(statistic=-1.0663778179197536, pvalue=0.30119065507715237)\n",
      "SNOW : Ttest_indResult(statistic=-0.8113282518113045, pvalue=0.42402073481813984)\n"
     ]
    }
   ],
   "source": [
    "ten_yr_df = data[::10].append(data.iloc[-1])\n",
    "# ===========================================================\n",
    "# Compute % differences in temperature and precipitation\n",
    "# every 10 years\n",
    "# ===========================================================\n",
    "changes_10 = np.log(1 + ten_yr_df.pct_change()) * 100\n",
    "changes_10.drop(labels=changes_10.index[0], inplace=True) # drop the first row because it's just NaN values\n",
    "changes_10\n",
    "# Run a two-sample t-test to test between whether there's a difference in means of the percent changes for temperature and precipitation\n",
    "print('RUNNING t-test FOR 10 YEAR TESTS:')\n",
    "\n",
    "for metric in metrics_list:\n",
    "    print(metric, \":\", stats.ttest_ind(changes_10[\"temp\"], changes_10[metric], equal_var=False, alternative=\"two-sided\"))"
   ]
  },
  {
   "cell_type": "code",
   "execution_count": 46,
   "metadata": {},
   "outputs": [
    {
     "name": "stdout",
     "output_type": "stream",
     "text": [
      "RUNNING t-test FOR YEAR-BY-YEAR TESTS FOR ACTUAL VALUES:\n",
      "PRCP : Ttest_indResult(statistic=-31.698832572068067, pvalue=1.3911281236393228e-81)\n",
      "SNOW : Ttest_indResult(statistic=19.173684094850255, pvalue=6.497108959930191e-53)\n"
     ]
    }
   ],
   "source": [
    "# Running the same t-tests but with the actual temperature, precipitation, and snowfall values\n",
    "# Run a two-sample t-test to test between whether there's a difference in means of the temperature and precipitation\n",
    "print('RUNNING t-test FOR YEAR-BY-YEAR TESTS FOR ACTUAL VALUES:')\n",
    "for metric in metrics_list:\n",
    "    print(metric, \":\", stats.ttest_ind(data[\"temp\"], data[metric], equal_var=False, alternative=\"two-sided\"))"
   ]
  },
  {
   "cell_type": "code",
   "execution_count": 40,
   "metadata": {},
   "outputs": [
    {
     "name": "stdout",
     "output_type": "stream",
     "text": [
      "RUNNING t-test FOR 5 YEAR TESTS FOR ACTUAL VALUES:\n",
      "PRCP : Ttest_indResult(statistic=-16.212447736926745, pvalue=1.5891314529267755e-19)\n",
      "SNOW : Ttest_indResult(statistic=6.399262893294582, pvalue=1.171651146644816e-07)\n"
     ]
    }
   ],
   "source": [
    "# Running the same t-tests but with the actual temperature, precipitation, and snowfall values\n",
    "# Run a two-sample t-test to test between whether there's a difference in means of the temperature and precipitation\n",
    "print('RUNNING t-test FOR 5 YEAR TESTS FOR ACTUAL VALUES:')\n",
    "for metric in metrics_list:\n",
    "    print(metric, \":\", stats.ttest_ind(data[::5][\"temp\"], data[::5][metric], equal_var=False, alternative=\"two-sided\"))\n",
    "    "
   ]
  },
  {
   "cell_type": "code",
   "execution_count": 41,
   "metadata": {},
   "outputs": [
    {
     "name": "stdout",
     "output_type": "stream",
     "text": [
      "RUNNING t-test FOR 10 YEAR TESTS FOR ACTUAL VALUES:\n",
      "PRCP : Ttest_indResult(statistic=-10.070655888504655, pvalue=9.283940066268785e-09)\n",
      "SNOW : Ttest_indResult(statistic=7.8106015303658785, pvalue=2.3201223883352994e-08)\n"
     ]
    }
   ],
   "source": [
    "# Running the same t-tests but with the actual temperature, precipitation, and snowfall values\n",
    "# Run a two-sample t-test to test between whether there's a difference in means of the temperature and precipitation\n",
    "print('RUNNING t-test FOR 10 YEAR TESTS FOR ACTUAL VALUES:')\n",
    "for metric in metrics_list:\n",
    "    print(metric, \":\", stats.ttest_ind(data[::10][\"temp\"], data[::10][metric], equal_var=False, alternative=\"two-sided\"))\n",
    "    "
   ]
  },
  {
   "cell_type": "markdown",
   "metadata": {},
   "source": [
    "Could group by station means if station observations are independent for t testing"
   ]
  },
  {
   "cell_type": "markdown",
   "metadata": {},
   "source": [
    "Could do sign test: We take all stations' means for 2011 and for 2012 and perform sign test to see if the means are different for each year and calculate the p-value. We then do this for 2012 and 2013 and so on."
   ]
  },
  {
   "cell_type": "markdown",
   "metadata": {},
   "source": [
    "For two years, 2011 and 2012, we calculate the temp and indicator means across all stations. We perform the sign test between the years to see if temp(2012) > temp(2011) and the same for the indicator. If BOTH indicator and temp are greater, we add that to the count of significant changes. Perform this for all pairs of years and count up the significant changes."
   ]
  }
 ],
 "metadata": {
  "kernelspec": {
   "display_name": "Python 3",
   "language": "python",
   "name": "python3"
  },
  "language_info": {
   "codemirror_mode": {
    "name": "ipython",
    "version": 3
   },
   "file_extension": ".py",
   "mimetype": "text/x-python",
   "name": "python",
   "nbconvert_exporter": "python",
   "pygments_lexer": "ipython3",
   "version": "3.8.8"
  }
 },
 "nbformat": 4,
 "nbformat_minor": 4
}
