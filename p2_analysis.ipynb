{
 "cells": [
  {
   "cell_type": "code",
   "execution_count": null,
   "metadata": {},
   "outputs": [],
   "source": [
    "import numpy as np\n",
    "import pandas as pd\n",
    "import matplotlib.pyplot as plt"
   ]
  },
  {
   "cell_type": "code",
   "execution_count": null,
   "metadata": {},
   "outputs": [],
   "source": [
    "# Load data\n",
    "df = pd.read_csv(\"filtered_data.csv\")\n",
    "print(df.shape)\n",
    "df"
   ]
  },
  {
   "cell_type": "code",
   "execution_count": null,
   "metadata": {},
   "outputs": [],
   "source": [
    "# ===========================================================\n",
    "# Compute each year's temperature\n",
    "# ===========================================================\n",
    "\n",
    "# For each station and for each day, compute the midpoint temperature by\n",
    "# averaging the min and max temperatures\n",
    "mid_temps = df.where(np.logical_or(df[\"element\"] == \"TMIN\",\n",
    "                            df[\"element\"] == \"TMAX\")).groupby(by=[\"station_id\", \"year\", \"month\", \"day\"]).mean().reset_index()\n",
    "\n",
    "# For each station and for each year, compute the average temperature across that year\n",
    "avg_yearly_temps_per_station = mid_temps.groupby(by=[\"station_id\", \"year\"]).mean()[\"value\"].reset_index()\n",
    "\n",
    "# For each year, compute the average temperature across stations\n",
    "avg_yearly_temps = mid_temps.groupby(by=[\"year\"]).mean()[\"value\"].reset_index()\n",
    "\n",
    "# All temperatures are in tenths of degree Celsius, so divide by 10 to get\n",
    "# actual Celsius temperatures\n",
    "avg_yearly_temps[\"value\"] /= 10"
   ]
  },
  {
   "cell_type": "code",
   "execution_count": null,
   "metadata": {},
   "outputs": [],
   "source": [
    "avg_yearly_temps[\"year\"] = avg_yearly_temps[\"year\"].astype(int)\n",
    "avg_yearly_temps = avg_yearly_temps.set_index(\"year\").squeeze()\n",
    "print(avg_yearly_temps.shape)\n",
    "avg_yearly_temps\n"
   ]
  },
  {
   "cell_type": "code",
   "execution_count": null,
   "metadata": {},
   "outputs": [],
   "source": [
    "# ==================================\n",
    "# Compute each year's precipitation\n",
    "# ==================================\n",
    "\n",
    "# Extract the precipitation data\n",
    "prcp = df.where(df['element'] == 'PRCP').dropna()\n",
    "\n",
    "# Delete missing data, and unnecessary columns\n",
    "prcp = prcp[prcp[\"value\"] != -9999]\n",
    "\n",
    "# For each station and for each year, compute the average temperature across that year\n",
    "avg_yearly_prcp_per_station = prcp.groupby(by=[\"station_id\", \"year\"]).mean()[\"value\"].reset_index()\n",
    "\n",
    "# For each year, compute the average temperature across stations\n",
    "avg_yearly_prcp = avg_yearly_prcp_per_station.groupby(by=[\"year\"]).mean()[\"value\"].reset_index()\n"
   ]
  },
  {
   "cell_type": "code",
   "execution_count": null,
   "metadata": {},
   "outputs": [],
   "source": [
    "avg_yearly_prcp[\"year\"] = avg_yearly_prcp[\"year\"].astype(int)\n",
    "avg_yearly_prcp = avg_yearly_prcp.set_index(\"year\").squeeze()\n",
    "print(avg_yearly_prcp.shape)\n",
    "avg_yearly_prcp"
   ]
  },
  {
   "cell_type": "code",
   "execution_count": null,
   "metadata": {},
   "outputs": [],
   "source": [
    "# Join the temperature and precipitation data (on the index a.k.a. the year column)\n",
    "temp_prcp = pd.concat((avg_yearly_temps, avg_yearly_prcp), axis=1, join=\"inner\", ignore_index=False)\n",
    "temp_prcp"
   ]
  },
  {
   "attachments": {},
   "cell_type": "markdown",
   "metadata": {},
   "source": [
    "Things to analyze\n",
    "\n",
    "* We can do a two-sample t-test between yearly difference in temperature and yearly difference in precipitation. That way we can see that if difference in temperature increases, whether or not difference in precipitation increases by chance. --> Do this for every climate indicator, not just precipitation\n",
    "* Question: do we really need to use the differences between values, or can we just use the values themselves?\n",
    "* Look into ozone depletion and CFCs getting banned in 1970s?"
   ]
  }
 ],
 "metadata": {
  "kernelspec": {
   "display_name": "base",
   "language": "python",
   "name": "python3"
  },
  "language_info": {
   "codemirror_mode": {
    "name": "ipython",
    "version": 3
   },
   "file_extension": ".py",
   "mimetype": "text/x-python",
   "name": "python",
   "nbconvert_exporter": "python",
   "pygments_lexer": "ipython3",
   "version": "3.9.13"
  },
  "orig_nbformat": 4
 },
 "nbformat": 4,
 "nbformat_minor": 2
}
